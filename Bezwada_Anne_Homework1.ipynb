{
 "cells": [
  {
   "cell_type": "markdown",
   "metadata": {},
   "source": [
    "## DATA 690 Homework 1 (50 points - Due on Tuesday, September 12, 2023 by 11:59 pm ET)\n",
    "\n",
    "The output of this assignment for submission should be in PDF format **AND** .py or .ipynb. \n",
    "\n",
    "The name of the file should be as follows: \n",
    "\n",
    "    Lastname_Firstname_Homework1.pdf (example: Thomas_Sunela_Homework1.pdf)\n",
    "   **AND** \n",
    "   \n",
    "    Lastname_Firstname_Homework1.ipynb (example: Thomas_Sunela_Assignment1.ipynb. \n",
    "    \n",
    "In short, you are submitting the python notebook as well as the pdf of that notebook. \n",
    "Do **NOT** submit .html file, the system will give you an error.\n",
    "\n",
    "    \n",
    "**Incorrect file name will cost you points!<br>**\n",
    "\n",
    "Instructions for converting a Jupyter Python notebook to PDF: \n",
    "                                        \n",
    "    Go to the menu and choose, File --> Download As --> html. \n",
    "    Open that html file and print it to PDF. \n",
    "    Submit the PDF file **NOT** the html file.\n",
    "\n",
    "If you are using Google Colab, remember to review the PDF before submitting to ensure that all cells and answers are displayed in the PDF.\n",
    "\n",
    "**Things to note:**\n",
    "\n",
    "* Each cell should display an output\n",
    "* Use only the basic Python concepts and methods taught thus far\n",
    "* Well formatted output\n",
    "* Use both Markdown and code comments in the Jupyter Notebook as needed\n"
   ]
  },
  {
   "cell_type": "markdown",
   "metadata": {},
   "source": [
    "We covered a lot of the basics of the Python programming language. Mastering the fundamentals of Python will equip you for more advanced data analysis libraries like the *Pandas* library.\n",
    "\n",
    "The goal of this activity is to start thinking about data analysis related tasks only using base Python. You will get practice using various data types, data structures, conditionals, and loops, and gain more experience writing functions."
   ]
  },
  {
   "cell_type": "markdown",
   "metadata": {},
   "source": [
    "## Clinical Trials - Sheep\n",
    "\n",
    "While working for a pharmaceutical company that specializes in medications for agriculture you were assigned to work on a project assessing the effectiveness of a new drug designed to treat tapeworms in sheep. (If the sheep have tapeworms they can't get as fat as they need to be at slaughter and it is a waste of feed.) \n",
    "\n",
    "To investigate you obtain a random sample of 25 worm-infected lambs of approximately the same age and health. Then you randomly divided the lambs into two groups. Twelve of the lambs were injected with the drug and the remaining thirteen were left untreated. After 6 months, the lambs were slaughtered and the number of worms were counted. You need to report to your boss whether the new medication has reduced the average number of tapeworms in the lambs. If so, how much?\n",
    "\n",
    "<pre>\n",
    "Treated: 18, 43, 28, 50, 16, 32, 13, 35, 38, 33, 6, 7\n",
    "Untreated: 40, 54, 26, 63, 21, 37, 39, 23, 48, 58, 28, 39, 42\n",
    "</pre>"
   ]
  },
  {
   "cell_type": "markdown",
   "metadata": {},
   "source": [
    "### Exercise 1: (5 points)\n",
    "<span  style=\"color:purple; font-size:16px\">Create two new lists (*trt_sorted*, *untrt_sorted*) using the ```copy()``` method that are sorted versions of the original data. Print the output</span>"
   ]
  },
  {
   "cell_type": "code",
   "execution_count": 45,
   "metadata": {},
   "outputs": [
    {
     "name": "stdout",
     "output_type": "stream",
     "text": [
      "This is the new sorted treated list: [6, 7, 13, 16, 18, 28, 32, 33, 35, 38, 43, 50]\n",
      "This is the new sorted untreated list: [21, 23, 26, 28, 37, 39, 39, 40, 42, 48, 54, 58, 63]\n"
     ]
    }
   ],
   "source": [
    "## Exercise Answer\n",
    "trt_list = [18, 43, 28, 50, 16, 32, 13, 35, 38, 33, 6, 7]\n",
    "trt_list.sort()\n",
    "trt_sorted = trt_list.copy()\n",
    "print (\"This is the new sorted treated list: \" + str(trt_sorted))\n",
    "\n",
    "untrt_list = [40, 54, 26, 63, 21, 37, 39, 23, 48, 58, 28, 39, 42]\n",
    "untrt_list.sort()\n",
    "untrt_sorted = untrt_list.copy()\n",
    "print (\"This is the new sorted untreated list: \" + str(untrt_sorted))\n"
   ]
  },
  {
   "cell_type": "markdown",
   "metadata": {},
   "source": [
    "### Exercise 2: (5 points)\n",
    "<span  style=\"color:purple; font-size:16px\">Create a function called `get_nlargest()` that takes in a list as input, and an optional parameter *num* indicating how many values to return but with a default value of 3. The function should then return the *num* largest values from the list. Apply this function to *treated* with num = 4 and *untreated* with the default value. Make sure output of both lists are shown.</span>"
   ]
  },
  {
   "cell_type": "code",
   "execution_count": 23,
   "metadata": {},
   "outputs": [
    {
     "name": "stdout",
     "output_type": "stream",
     "text": [
      "The 4 largest values from the treated list are: 50 43 38 35\n",
      "The 3 largest values from the untreated list are: 63 58 54\n"
     ]
    }
   ],
   "source": [
    "## Exercise Answer\n",
    "def get_nlargest(input_list):\n",
    "    sorted_list = sorted(input_list)\n",
    "\n",
    "# The original treated and untreated lists\n",
    "trt_list = [18, 43, 28, 50, 16, 32, 13, 35, 38, 33, 6, 7]\n",
    "untrt_list = [40, 54, 26, 63, 21, 37, 39, 23, 48, 58, 28, 39, 42]\n",
    " \n",
    "# sorting the list\n",
    "trt_list.sort()\n",
    "untrt_list.sort()\n",
    "# Print the final results\n",
    "print(\"The 4 largest values from the treated list are:\", trt_list[-1], trt_list[-2], trt_list[-3], trt_list[-4])\n",
    "print(\"The 3 largest values from the untreated list are:\", untrt_list[-1], untrt_list[-2], untrt_list[-3])\n",
    "\n",
    "\n",
    "\n"
   ]
  },
  {
   "cell_type": "markdown",
   "metadata": {},
   "source": [
    "### Exercise 3: (5 points)\n",
    "<span  style=\"color:purple; font-size:16px\">Create a function to calculate the median of a list. The function should have a single parameter called *input_list* and return a single float. However, the calculation of the median is slightly different depending if there are an even number of elements in the list or not. If there are an odd number of elements in the list, then the median is the middle number. If there are an even number of elements in the list, then the median is the average of the middle two numbers. Use this function to calculate the median number of tapeworms for **each group** (*treated* and *untreated*). Display the output in a good format</span>"
   ]
  },
  {
   "cell_type": "code",
   "execution_count": null,
   "metadata": {},
   "outputs": [
    {
     "name": "stdout",
     "output_type": "stream",
     "text": [
      "The treated list : [18, 43, 28, 50, 16, 32, 13, 35, 38, 33, 6, 7]\n",
      "The median number of the treated list is: 30.0\n",
      "The treated list : [40, 54, 26, 63, 21, 37, 39, 23, 48, 58, 28, 39, 42]\n",
      "The median number of the untreated list is: 39\n"
     ]
    }
   ],
   "source": [
    "## Exercise Answer\n",
    "\n",
    "def calculate_median(input_list):\n",
    "    sorted_list = sorted(input_list)\n",
    "    n = len(sorted_list)\n",
    "\n",
    "    if n % 2 == 1:\n",
    "        # If it's an odd number of elements, give the middle number\n",
    "        median = sorted_list[n // 2]\n",
    "    else:\n",
    "        # If it's an even number of elements, give the avg. of the middle two numbers\n",
    "        middle1 = sorted_list[n // 2 - 1]\n",
    "        middle2 = sorted_list[n // 2]\n",
    "        median = (middle1 + middle2) / 2\n",
    "\n",
    "    return median\n",
    "\n",
    "# Original lists\n",
    "trt_list = [18, 43, 28, 50, 16, 32, 13, 35, 38, 33, 6, 7]\n",
    "untrt_list = [40, 54, 26, 63, 21, 37, 39, 23, 48, 58, 28, 39, 42]\n",
    "\n",
    "# Calculate the median for both lists\n",
    "median_treated = calculate_median(trt_list)\n",
    "median_untreated = calculate_median(untrt_list)\n",
    "\n",
    "# Print the final results\n",
    "print(\"The treated list : \" + str(trt_list))\n",
    "print(\"The median number of the treated list is:\", median_treated)\n",
    "print(\"The treated list : \" + str(untrt_list))\n",
    "print(\"The median number of the untreated list is:\", median_untreated)\n"
   ]
  },
  {
   "cell_type": "markdown",
   "metadata": {},
   "source": [
    "### Exercise 4: (10 points)\n",
    "<span  style=\"color:purple; font-size:16px\">Create a function called grader() that accepts a dictionary containing student names as keys and their midterm scores as values. It should return a dictionary with the students names as keys and a dictionary containing midterm score and letter grade as values. If score is above 90% then the grade is an A, if the score is between 80% and 90% then the grade is a B, if the score is between 70% and 80% then the grade is a C, if the score is between 60% and 70% then the grade is a D, if the score is below 60% then the grade is an F.\n",
    "\n",
    "test_scores_dict = {'Chris':88, 'Neal':56, 'Mary':72, 'Sasha':99, 'John':91, 'Mike':87, 'Kayla': 62, 'Caylee':85}\n",
    "\n",
    "Example return for first student:\n",
    "\n",
    "test_scores_return = {'Chris':{'midterm':88, 'grade':'B}}</span>"
   ]
  },
  {
   "cell_type": "code",
   "execution_count": 7,
   "metadata": {},
   "outputs": [
    {
     "name": "stdout",
     "output_type": "stream",
     "text": [
      "Chris: Midterm Score: 88 Letter Grade:  B\n",
      "Neal: Midterm Score: 56 Letter Grade:  F\n",
      "Mary: Midterm Score: 72 Letter Grade:  C\n",
      "Sasha: Midterm Score: 99 Letter Grade:  A\n",
      "John: Midterm Score: 91 Letter Grade:  A\n",
      "Mike: Midterm Score: 87 Letter Grade:  B\n",
      "Kayla: Midterm Score: 62 Letter Grade:  D\n",
      "Caylee: Midterm Score: 85 Letter Grade:  B\n"
     ]
    }
   ],
   "source": [
    "## Exercise Answer\n",
    "def grader(test_scores_dict):\n",
    "    #need an empty dictionary\n",
    "    grade_dict = dict()\n",
    "\n",
    "    for student_names, midterm_score in test_scores_dict.items():\n",
    "        if midterm_score >= 90:\n",
    "            grade = 'A'\n",
    "        elif 80 <= midterm_score < 90:\n",
    "            grade = 'B'\n",
    "        elif 70 <= midterm_score < 80:\n",
    "            grade = 'C'\n",
    "        elif 60 <= midterm_score < 70:\n",
    "            grade = 'D'\n",
    "        else:\n",
    "            grade = 'F'\n",
    "\n",
    "        grade_dict[student_names] = {'midterm': midterm_score, 'grade': grade}\n",
    "\n",
    "    return grade_dict\n",
    "\n",
    "# Test scores dictionary\n",
    "test_scores_dict = {'Chris': 88, 'Neal': 56, 'Mary': 72, 'Sasha': 99, 'John': 91, 'Mike': 87, 'Kayla': 62, 'Caylee': 85}\n",
    "\n",
    "# Calculate and print names, midterm scores, and grades\n",
    "test_scores_return = grader(test_scores_dict)\n",
    "for student_names, data in test_scores_return.items():\n",
    "    print(f\"{student_names}: Midterm Score: {data['midterm']} Letter Grade:  {data['grade']}\")\n",
    "    \n"
   ]
  },
  {
   "cell_type": "markdown",
   "metadata": {},
   "source": [
    "### Exercise 5: (10 points)\n",
    "<span  style=\"color:purple; font-size:16px\">Create a function ```fizz_buzz1``` that takes a single argument ```max_num```. Have this function loop over the values from 1 to ```max_num```\n",
    "that prints each number from 1 to ```max_num``` on a new line. For each multiple of 3, print \"Fizz\" instead of the number. For each multiple of 5,\n",
    "print \"Buzz\" instead of the number. For numbers which are multiples of both 3 and 5, print \"FizzBuzz\" instead of the number. What is the output of ```fizz_buzz1(10)```?\n",
    "</span>"
   ]
  },
  {
   "cell_type": "code",
   "execution_count": null,
   "metadata": {},
   "outputs": [
    {
     "name": "stdout",
     "output_type": "stream",
     "text": [
      "1\n",
      "2\n",
      "Fizz\n",
      "4\n",
      "Buzz\n",
      "Fizz\n",
      "7\n",
      "8\n",
      "Fizz\n",
      "Buzz\n"
     ]
    }
   ],
   "source": [
    "## Exercise Answer\n",
    "\n",
    "def fizz_buzz1(max_num):\n",
    "    #loops over the values from 1 - max_num\n",
    "    for num in range(1, max_num+1):\n",
    "        #needs to be divisible by 3 AND 5\n",
    "        if num % 3 == 0 and num % 5 == 0:\n",
    "            print (\"FizzBuzz\")\n",
    "        #needs to be divisble by just 3\n",
    "        elif num % 3 == 0:\n",
    "            print (\"Fizz\")\n",
    "        #needs to be divisble by just 5\n",
    "        elif num % 5 == 0:\n",
    "            print(\"Buzz\")\n",
    "        #if the number doesn't fit one of the coniditions above, just print the number\n",
    "        else:\n",
    "            print(num)\n",
    "\n",
    "\n",
    "#print the output from 1 - 10 with correct replaced words\n",
    "(fizz_buzz1(10))\n",
    "\n",
    "    \n",
    "\n"
   ]
  },
  {
   "cell_type": "markdown",
   "metadata": {},
   "source": [
    "### Exercise 6: (15 points)\n",
    "<span  style=\"color:purple; font-size:16px\">Write a function `prop_long_names()` that takes in list of names `name_list` and calculates and returns the proportion of names in the list that are longer than 5 characters as a decimal. Use the name_list given below.</span>\n",
    "\n"
   ]
  },
  {
   "cell_type": "code",
   "execution_count": null,
   "metadata": {},
   "outputs": [],
   "source": [
    "## Exercise Answer\n",
    "name_list = ['Mary', 'Anna', 'Emma', 'Elizabeth', 'Minnie', 'Margaret', 'Sammie', 'Alice', 'Bertha', 'Sarah', 'Annie', \n",
    "             'Clara', 'Ella', 'Florence', 'Cora', 'Martha', 'Laura', 'Nellie', 'Grace', 'Carrie']\n"
   ]
  },
  {
   "cell_type": "code",
   "execution_count": 3,
   "metadata": {},
   "outputs": [
    {
     "name": "stdout",
     "output_type": "stream",
     "text": [
      "The proportion of names longer than 5 characters is: 0.45\n"
     ]
    }
   ],
   "source": [
    "def prop_long_names(name_list):\n",
    "    name_count = 0\n",
    "    #go through iterations in the name_list\n",
    "    for name in name_list:\n",
    "        if len(name) > 5:\n",
    "            name_count += 1\n",
    "\n",
    "    #Calculate the proportion of names\n",
    "    proportion_of_names = name_count / len(name_list)\n",
    "    return proportion_of_names\n",
    "\n",
    "\n",
    "name_list = ['Mary', 'Anna', 'Emma', 'Elizabeth', 'Minnie', 'Margaret', 'Sammie', 'Alice', 'Bertha', 'Sarah', 'Annie', \n",
    "             'Clara', 'Ella', 'Florence', 'Cora', 'Martha', 'Laura', 'Nellie', 'Grace', 'Carrie']\n",
    "\n",
    "# Calculate and print the proportion of long names\n",
    "proportion_names = prop_long_names(name_list)\n",
    "print(f\"The proportion of names longer than 5 characters is: {proportion_names}\")\n"
   ]
  }
 ],
 "metadata": {
  "kernelspec": {
   "display_name": "Python 3 (ipykernel)",
   "language": "python",
   "name": "python3"
  },
  "language_info": {
   "codemirror_mode": {
    "name": "ipython",
    "version": 3
   },
   "file_extension": ".py",
   "mimetype": "text/x-python",
   "name": "python",
   "nbconvert_exporter": "python",
   "pygments_lexer": "ipython3",
   "version": "3.9.6"
  },
  "toc": {
   "base_numbering": 1,
   "nav_menu": {},
   "number_sections": false,
   "sideBar": false,
   "skip_h1_title": false,
   "title_cell": "Table of Contents",
   "title_sidebar": "Contents",
   "toc_cell": false,
   "toc_position": {},
   "toc_section_display": false,
   "toc_window_display": false
  }
 },
 "nbformat": 4,
 "nbformat_minor": 2
}
